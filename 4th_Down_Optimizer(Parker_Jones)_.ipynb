{
  "cells": [
    {
      "cell_type": "code",
      "execution_count": 34,
      "metadata": {
        "colab": {
          "base_uri": "https://localhost:8080/"
        },
        "id": "4K5pz9ARSk0_",
        "outputId": "8d54e99c-6908-4827-8e66-f8e6297130ee"
      },
      "outputs": [
        {
          "output_type": "stream",
          "name": "stdout",
          "text": [
            "Drive already mounted at /content/drive/; to attempt to forcibly remount, call drive.mount(\"/content/drive/\", force_remount=True).\n"
          ]
        },
        {
          "output_type": "execute_result",
          "data": {
            "text/plain": [
              "['pff_2025_season - Copy(in) (1).csv', 'CU_2025_Season.csv']"
            ]
          },
          "metadata": {},
          "execution_count": 34
        }
      ],
      "source": [
        "from google.colab import drive\n",
        "drive.mount('/content/drive/')\n",
        "\n",
        "import os\n",
        "os.chdir('/content/drive/MyDrive/Sports Analytics/Data Sets')\n",
        "os.getcwd()\n",
        "os.listdir()\n",
        "\n",
        "\n",
        "\n"
      ]
    },
    {
      "cell_type": "code",
      "execution_count": 46,
      "metadata": {
        "colab": {
          "base_uri": "https://localhost:8080/"
        },
        "id": "nhLLXsUQUTr1",
        "outputId": "4cfe31d4-da40-4c58-a403-7a3f39c3aafa"
      },
      "outputs": [
        {
          "output_type": "stream",
          "name": "stderr",
          "text": [
            "/tmp/ipython-input-347086503.py:3: DtypeWarning: Columns (49,50,61,88,89,97,98,115,122,123,124,128,136,157,158,189,205,206) have mixed types. Specify dtype option on import or set low_memory=False.\n",
            "  sports = pd.read_csv('pff_2025_season - Copy(in) (1).csv', index_col=0)\n"
          ]
        }
      ],
      "source": [
        "import pandas as pd\n",
        "import numpy as np\n",
        "sports = pd.read_csv('pff_2025_season - Copy(in) (1).csv', index_col=0)"
      ]
    },
    {
      "cell_type": "markdown",
      "metadata": {
        "id": "UHWXwLHzVyqI"
      },
      "source": [
        "#Visualization"
      ]
    },
    {
      "cell_type": "code",
      "execution_count": 47,
      "metadata": {
        "colab": {
          "base_uri": "https://localhost:8080/"
        },
        "collapsed": true,
        "id": "WXl93t58VyJg",
        "outputId": "dcb95d5f-7ce2-4d3f-b810-d3b61de6ace2"
      },
      "outputs": [
        {
          "output_type": "stream",
          "name": "stdout",
          "text": [
            "<class 'pandas.core.frame.DataFrame'>\n",
            "Index: 105440 entries, 6309366 to 6545480\n",
            "Columns: 211 entries, pff_GAMEID to pff_EXPECTED_POINTS_ADDED_LEGACY\n",
            "dtypes: bool(2), float64(36), int64(38), object(135)\n",
            "memory usage: 169.1+ MB\n"
          ]
        }
      ],
      "source": [
        "#sports.head()\n",
        "sports.info()\n",
        "#sports.columns"
      ]
    },
    {
      "cell_type": "markdown",
      "metadata": {
        "id": "Il4Oqgq0U7VJ"
      },
      "source": [
        "#Data Cleaning"
      ]
    },
    {
      "cell_type": "code",
      "execution_count": 48,
      "metadata": {
        "id": "2n-rRZNYXJfJ"
      },
      "outputs": [],
      "source": [
        "#Filtering to only 4th down\n",
        "sports= sports[sports['pff_DOWN']==4]\n",
        "#Removing Garbage time\n",
        "sports = sports[sports['pff_GARBAGETIME'] != 1]\n",
        "#Filling null values in pff_FIRST_DOWN_GAINED to 0\n",
        "sports['pff_FIRST_DOWN_GAINED'] = sports['pff_FIRST_DOWN_GAINED'].fillna(0)"
      ]
    },
    {
      "cell_type": "code",
      "execution_count": 49,
      "metadata": {
        "id": "lx2Dh0xJdWNu"
      },
      "outputs": [],
      "source": [
        "#filter for relevant columns\n",
        "sports = sports[[\n",
        "\"pff_GAMEID\", # Add pff_GAMEID back to the DataFrame\n",
        "\"pff_QUARTER\",\n",
        " \"pff_SORTORDER\",\n",
        "\"pff_CLOCK\",\n",
        "\"pff_DOWN\",\n",
        " \"pff_TRICKPLAY\",\n",
        "\"pff_DISTANCE\",\n",
        "\"pff_SPECIALTEAMSTYPE\",\n",
        "\"pff_YARDS_TO_GOAL_LINE\",\n",
        "\"pff_FIELDPOSITION\",\n",
        "\"pff_OFFTEAM\",\n",
        "\"pff_DEFTEAM\",\n",
        "\"pff_OFFSCORE\",\n",
        "\"pff_DEFSCORE\",\n",
        "\"pff_SCOREDIFFERENTIAL\",\n",
        "\"pff_EXPECTED_POINTS\",\n",
        "\"pff_EXPECTED_POINTS_ADDED\",\n",
        "\"pff_RUNPASS\",\n",
        "\"pff_PASSRESULT\",\n",
        "\"pff_GAINLOSS\",\n",
        "\"pff_GAINLOSSNET\",\n",
        "\"pff_FIRST_DOWN_GAINED\",\n",
        "\"pff_TOUCHDOWN\",\n",
        "\"pff_TURNOVER\",\n",
        "\"pff_OFFSUCCESS\",\n",
        "\"pff_DEF_TIMEOUTS_REMAINING\",\n",
        "\"pff_OFF_TIMEOUTS_REMAINING\"\n",
        "]]"
      ]
    },
    {
      "cell_type": "code",
      "execution_count": 50,
      "metadata": {
        "collapsed": true,
        "id": "c8RdCVP3eEvo"
      },
      "outputs": [],
      "source": [
        "#Null values in this column represent a penalty, timeout, or kneel. Not an actual play\n",
        "sports = sports[sports['pff_RUNPASS'].notna()]"
      ]
    },
    {
      "cell_type": "code",
      "execution_count": 51,
      "metadata": {
        "colab": {
          "base_uri": "https://localhost:8080/"
        },
        "id": "ArgfOuVthyOo",
        "outputId": "03dca092-5dae-4b33-ab6e-f15cae3f153e"
      },
      "outputs": [
        {
          "output_type": "execute_result",
          "data": {
            "text/plain": [
              "array(['R', 'P', 'X'], dtype=object)"
            ]
          },
          "metadata": {},
          "execution_count": 51
        }
      ],
      "source": [
        "sports['pff_RUNPASS'].unique()"
      ]
    },
    {
      "cell_type": "markdown",
      "metadata": {
        "id": "nAG9GR_voQhr"
      },
      "source": [
        "#4th Down conversion Success"
      ]
    },
    {
      "cell_type": "code",
      "execution_count": 52,
      "metadata": {
        "id": "_sgNBUbRgI0U"
      },
      "outputs": [],
      "source": [
        "#Filters 4th down plays to run, pass and trick play. Trick play is denoted as X in pff_RUNPASS\n",
        "sports = sports[(sports['pff_RUNPASS'].isin(['R','P'])) | ((sports[\"pff_RUNPASS\"] == \"X\") & (sports['pff_TRICKPLAY']==1))]"
      ]
    },
    {
      "cell_type": "code",
      "execution_count": 53,
      "metadata": {
        "colab": {
          "base_uri": "https://localhost:8080/"
        },
        "id": "tRRxkSxLkl-b",
        "outputId": "e0fdb464-4f43-4651-b068-d438348c7add"
      },
      "outputs": [
        {
          "output_type": "stream",
          "name": "stdout",
          "text": [
            "First Down Percentage: 54.53%\n",
            "Average yards to first down: 3.88\n",
            "Average yards gained: 5.88\n"
          ]
        }
      ],
      "source": [
        "first_down_pct = sports[\"pff_FIRST_DOWN_GAINED\"].mean() * 100\n",
        "avg_yards_to_go = sports[\"pff_DISTANCE\"].mean()\n",
        "avg_yards = sports[\"pff_GAINLOSS\"].mean()\n",
        "\n",
        "print(f\"First Down Percentage: {first_down_pct:.2f}%\")\n",
        "print(f\"Average yards to first down:{avg_yards_to_go: .2f}\")\n",
        "print(f\"Average yards gained:{avg_yards: .2f}\")"
      ]
    },
    {
      "cell_type": "markdown",
      "source": [
        "#Winning vs. going for it"
      ],
      "metadata": {
        "id": "4ap7ygal7k1o"
      }
    },
    {
      "cell_type": "code",
      "source": [
        "sports = sports[(sports['pff_DISTANCE']<=3.88)]\n",
        "sports = sports[(sports['pff_QUARTER']==4)]"
      ],
      "metadata": {
        "id": "iYOhH3gj9h5w"
      },
      "execution_count": null,
      "outputs": []
    },
    {
      "cell_type": "code",
      "source": [
        "# Make sure plays are in order within each game\n",
        "sports_sorted = sports.sort_values([\"pff_GAMEID\", \"pff_SORTORDER\"])\n",
        "\n",
        "# Get the last play per game for final score comparison\n",
        "final_scores = (\n",
        "    sports_sorted.groupby(\"pff_GAMEID\", as_index=False)\n",
        "    .agg({\n",
        "        \"pff_OFFTEAM\": \"last\",\n",
        "        \"pff_DEFTEAM\": \"last\",\n",
        "        \"pff_OFFSCORE\": \"last\",\n",
        "        \"pff_DEFSCORE\": \"last\"\n",
        "    })\n",
        ")\n",
        "\n",
        "# Add a win flag for the offensive team\n",
        "final_scores[\"offense_win_flag\"] = (\n",
        "    final_scores[\"pff_OFFSCORE\"] > final_scores[\"pff_DEFSCORE\"]\n",
        ").astype(int)\n"
      ],
      "metadata": {
        "id": "bxitu9_z6gH7"
      },
      "execution_count": null,
      "outputs": []
    },
    {
      "cell_type": "code",
      "source": [
        "sports = sports.merge(\n",
        "    final_scores[[\"pff_GAMEID\", \"offense_win_flag\"]],\n",
        "    on=\"pff_GAMEID\",\n",
        "    how=\"left\"\n",
        ")\n"
      ],
      "metadata": {
        "id": "Hf4INC248N5D"
      },
      "execution_count": null,
      "outputs": []
    }
  ],
  "metadata": {
    "colab": {
      "provenance": []
    },
    "kernelspec": {
      "display_name": "Python 3",
      "name": "python3"
    },
    "language_info": {
      "name": "python"
    }
  },
  "nbformat": 4,
  "nbformat_minor": 0
}